{
 "cells": [
  {
   "cell_type": "code",
   "execution_count": 1,
   "id": "35c0c11e-942b-49bd-8e7d-d35ecf1d921d",
   "metadata": {},
   "outputs": [],
   "source": [
    "import pandas as pd\n",
    "import numpy as np\n",
    "import sklearn\n",
    "from sklearn import preprocessing\n",
    "import torch\n",
    "import torchvision\n",
    "import torch.nn as nn\n",
    "import torch.nn.functional as F\n",
    "import torch.optim as optim\n",
    "\n",
    "import os"
   ]
  },
  {
   "cell_type": "code",
   "execution_count": 90,
   "id": "4ad4a51d-ac6b-426e-ba2a-a2452bc66307",
   "metadata": {},
   "outputs": [
    {
     "data": {
      "text/html": [
       "<div>\n",
       "<style scoped>\n",
       "    .dataframe tbody tr th:only-of-type {\n",
       "        vertical-align: middle;\n",
       "    }\n",
       "\n",
       "    .dataframe tbody tr th {\n",
       "        vertical-align: top;\n",
       "    }\n",
       "\n",
       "    .dataframe thead th {\n",
       "        text-align: right;\n",
       "    }\n",
       "</style>\n",
       "<table border=\"1\" class=\"dataframe\">\n",
       "  <thead>\n",
       "    <tr style=\"text-align: right;\">\n",
       "      <th></th>\n",
       "      <th>Voltage</th>\n",
       "      <th>Flow rate</th>\n",
       "      <th>Duty cycle</th>\n",
       "      <th>Pulse period</th>\n",
       "      <th>Laser energy</th>\n",
       "      <th>cavity width(mm)</th>\n",
       "      <th>cavity depth(µm)</th>\n",
       "    </tr>\n",
       "  </thead>\n",
       "  <tbody>\n",
       "    <tr>\n",
       "      <th>0</th>\n",
       "      <td>25</td>\n",
       "      <td>0.47</td>\n",
       "      <td>20</td>\n",
       "      <td>20</td>\n",
       "      <td>0</td>\n",
       "      <td>2285.0</td>\n",
       "      <td>72.1</td>\n",
       "    </tr>\n",
       "    <tr>\n",
       "      <th>1</th>\n",
       "      <td>25</td>\n",
       "      <td>0.47</td>\n",
       "      <td>20</td>\n",
       "      <td>20</td>\n",
       "      <td>0</td>\n",
       "      <td>2199.0</td>\n",
       "      <td>68.2</td>\n",
       "    </tr>\n",
       "    <tr>\n",
       "      <th>2</th>\n",
       "      <td>25</td>\n",
       "      <td>0.47</td>\n",
       "      <td>20</td>\n",
       "      <td>20</td>\n",
       "      <td>0</td>\n",
       "      <td>2108.0</td>\n",
       "      <td>67.2</td>\n",
       "    </tr>\n",
       "    <tr>\n",
       "      <th>3</th>\n",
       "      <td>25</td>\n",
       "      <td>0.47</td>\n",
       "      <td>20</td>\n",
       "      <td>20</td>\n",
       "      <td>0</td>\n",
       "      <td>2233.0</td>\n",
       "      <td>61.2</td>\n",
       "    </tr>\n",
       "    <tr>\n",
       "      <th>4</th>\n",
       "      <td>25</td>\n",
       "      <td>0.47</td>\n",
       "      <td>20</td>\n",
       "      <td>20</td>\n",
       "      <td>0</td>\n",
       "      <td>2046.0</td>\n",
       "      <td>52.2</td>\n",
       "    </tr>\n",
       "  </tbody>\n",
       "</table>\n",
       "</div>"
      ],
      "text/plain": [
       "   Voltage  Flow rate  Duty cycle  Pulse period  Laser energy  \\\n",
       "0       25       0.47          20            20             0   \n",
       "1       25       0.47          20            20             0   \n",
       "2       25       0.47          20            20             0   \n",
       "3       25       0.47          20            20             0   \n",
       "4       25       0.47          20            20             0   \n",
       "\n",
       "   cavity width(mm)  cavity depth(µm)  \n",
       "0            2285.0              72.1  \n",
       "1            2199.0              68.2  \n",
       "2            2108.0              67.2  \n",
       "3            2233.0              61.2  \n",
       "4            2046.0              52.2  "
      ]
     },
     "execution_count": 90,
     "metadata": {},
     "output_type": "execute_result"
    }
   ],
   "source": [
    "# x1 input\n",
    "\n",
    "df = pd.read_csv('datasets/CNN_parameter_dataset.csv', encoding='utf-8')\n",
    "int_flow = df.copy()\n",
    "\n",
    "#preparing the dataset for spliting into features and labels \n",
    "int_flow.columns = [col.strip() for col in df.columns]\n",
    "int_flow.drop(['Sample','Cavity','Pulse width'], axis=1, inplace=True)\n",
    "int_flow.drop(['Pulse rms','Pulse pkpk'], axis=1, inplace=True)\n",
    "int_flow['cavity width(mm)'] = int_flow['cavity width(mm)']*1000\n",
    "#int_flow = sklearn.utils.shuffle(int_flow)\n",
    "int_flow.head()"
   ]
  },
  {
   "cell_type": "code",
   "execution_count": 91,
   "id": "c174659d-68ec-422b-bfad-ac128f852bf1",
   "metadata": {},
   "outputs": [],
   "source": [
    "# x2 input\n",
    "\n",
    "X2= []\n",
    "path = r'C:\\Users\\nikam\\Desktop\\Academics\\Thesis\\Internal_flow_experiments\\Internal_flow_current_data'   \n",
    "for folder in (os.listdir(path)):\n",
    "    dfs = []\n",
    "    \n",
    "    for file in (os.listdir(path + '\\\\'+folder)):\n",
    "        df = pd.read_csv(path + '\\\\'+folder + '\\\\'+file, encoding='unicode_escape', sep='\\t' )\n",
    "        dfs.append(df)\n",
    "    new_df = pd.concat(dfs)\n",
    "    for i in range(0,len(new_df),15):\n",
    "        _df = new_df[i:i+15].copy()\n",
    "        _df = _df.reset_index(drop=True)\n",
    "        idx = _df['Pulse rms [A]'].index[_df['Pulse rms [A]'].apply(np.isnan)]\n",
    "        \n",
    "        if len(idx)>0: \n",
    "            for ii in idx:\n",
    "                if ii == 0: \n",
    "                    replacing_val = _df['Pulse rms [A]'][ii+1]\n",
    "                elif ii == 14:\n",
    "                     replacing_val = _df['Pulse rms [A]'][ii-1]   \n",
    "                else:\n",
    "                    replacing_val = (_df['Pulse rms [A]'][ii-1]+_df['Pulse rms [A]'][ii+1])/2\n",
    "                _df.loc[ii,'Pulse rms [A]'] = replacing_val\n",
    "        X2.append(_df.iloc[:,1:].to_numpy())        \n",
    "        \n",
    "X2 = np.asarray(X2, dtype=np.float16)\n",
    "X2 =np.expand_dims(X2,axis=1)"
   ]
  },
  {
   "cell_type": "code",
   "execution_count": 92,
   "id": "500e548a-5c14-4daa-8f0f-19fb2fb0588c",
   "metadata": {},
   "outputs": [],
   "source": [
    "#initializing X(features) and y(labels)\n",
    "X1 = int_flow.drop(['cavity width(mm)','cavity depth(µm)'], axis=1).to_numpy()\n",
    "#X1 =np.expand_dims(X1,axis=1)\n",
    "y = int_flow[['cavity depth(µm)']].values"
   ]
  },
  {
   "cell_type": "code",
   "execution_count": 93,
   "id": "73ba0cfe-0a1e-4a78-a9a0-8b4dabf89b81",
   "metadata": {},
   "outputs": [],
   "source": [
    "from sklearn import model_selection\n",
    "X1_train, X1_test,X2_train, X2_test, y_train, y_test = model_selection.train_test_split(X1, X2, y, test_size=0.2, random_state=5)\n",
    "X1_train_1, X1_dev, X2_train_1, X2_dev, y_train_1, y_dev = model_selection.train_test_split(X1_train, X2_train, y_train, test_size=0.2, random_state=5)"
   ]
  },
  {
   "cell_type": "code",
   "execution_count": 94,
   "id": "f1f5f7a1-70e2-4819-a904-48b895313d9d",
   "metadata": {},
   "outputs": [],
   "source": [
    "class nncnn(nn.Module):\n",
    "    \n",
    "    def __init__(self):\n",
    "        super().__init__()\n",
    "        self.fc1 = nn.Linear(5, 10)        \n",
    "        self.cnn1 = nn.Conv2d(1, 5, (2,2))\n",
    "        \n",
    "        self.fc2 = nn.Linear(360, 50)\n",
    "        self.fc3 = nn.Linear(50, 10)\n",
    "        self.fc4 = nn.Linear(10, 1)\n",
    "        \n",
    "    def forward(self, x1,x2):\n",
    "        x1 = F.relu(self.fc1(x1))\n",
    "        \n",
    "        x2 = self.cnn1(x2).view(x1.size(0),-1)\n",
    "        #print(x1.shape, x2.shape)\n",
    "        x_joined = torch.cat([x1,x2], dim=1)\n",
    "        #print(x1.shape, x2.shape, x_joined.shape)\n",
    "        x_joined = F.relu(self.fc2(x_joined))\n",
    "        x_joined = F.relu(self.fc3(x_joined))\n",
    "        x_joined = self.fc4(x_joined)\n",
    "\n",
    "        return x_joined"
   ]
  },
  {
   "cell_type": "code",
   "execution_count": 95,
   "id": "453a6a1e-d337-4a2f-80ad-ee55aa419247",
   "metadata": {},
   "outputs": [
    {
     "data": {
      "text/plain": [
       "nncnn(\n",
       "  (fc1): Linear(in_features=5, out_features=10, bias=True)\n",
       "  (cnn1): Conv2d(1, 5, kernel_size=(2, 2), stride=(1, 1))\n",
       "  (fc2): Linear(in_features=360, out_features=50, bias=True)\n",
       "  (fc3): Linear(in_features=50, out_features=10, bias=True)\n",
       "  (fc4): Linear(in_features=10, out_features=1, bias=True)\n",
       ")"
      ]
     },
     "execution_count": 95,
     "metadata": {},
     "output_type": "execute_result"
    }
   ],
   "source": [
    "m = nncnn()\n",
    "m"
   ]
  },
  {
   "cell_type": "code",
   "execution_count": 96,
   "id": "2f41427f-e409-44aa-a363-1901eb208223",
   "metadata": {},
   "outputs": [],
   "source": [
    "#training the neuralnetwork model\n",
    "\n",
    "X1_train_1 = torch.tensor(X1_train_1, dtype=torch.float64)\n",
    "X2_train_1 = torch.tensor(X2_train_1, dtype=torch.float64)\n",
    "y_train_1 = torch.tensor(y_train_1)\n",
    "\n",
    "X1_dev = torch.tensor(X1_dev, dtype=torch.float64)\n",
    "X2_dev = torch.tensor(X2_dev, dtype=torch.float64)\n",
    "y_dev = torch.tensor(y_dev)"
   ]
  },
  {
   "cell_type": "code",
   "execution_count": 97,
   "id": "7cd1c1c3-e940-4ac0-b232-91fd126f7921",
   "metadata": {
    "collapsed": true,
    "jupyter": {
     "outputs_hidden": true
    },
    "tags": []
   },
   "outputs": [
    {
     "name": "stderr",
     "output_type": "stream",
     "text": [
      "  0%|▎                                                                             | 41/10000 [00:00<00:24, 399.80it/s]"
     ]
    },
    {
     "name": "stdout",
     "output_type": "stream",
     "text": [
      "Validation loss decreased (inf --> 9124.166016).  Saving model ...\n",
      "Validation loss decreased (9124.166016 --> 863.631836).  Saving model ...\n",
      "EarlyStopping counter: 1 out of 100\n",
      "EarlyStopping counter: 2 out of 100\n",
      "EarlyStopping counter: 3 out of 100\n",
      "EarlyStopping counter: 4 out of 100\n",
      "Validation loss decreased (863.631836 --> 853.369080).  Saving model ...\n",
      "EarlyStopping counter: 1 out of 100\n",
      "Validation loss decreased (853.369080 --> 851.112000).  Saving model ...\n",
      "EarlyStopping counter: 1 out of 100\n",
      "EarlyStopping counter: 2 out of 100\n",
      "EarlyStopping counter: 3 out of 100\n",
      "EarlyStopping counter: 4 out of 100\n",
      "EarlyStopping counter: 5 out of 100\n",
      "EarlyStopping counter: 6 out of 100\n",
      "EarlyStopping counter: 7 out of 100\n",
      "EarlyStopping counter: 8 out of 100\n"
     ]
    },
    {
     "name": "stderr",
     "output_type": "stream",
     "text": [
      "  1%|█                                                                            | 137/10000 [00:00<00:23, 418.25it/s]"
     ]
    },
    {
     "name": "stdout",
     "output_type": "stream",
     "text": [
      "EarlyStopping counter: 9 out of 100\n",
      "EarlyStopping counter: 10 out of 100\n",
      "EarlyStopping counter: 11 out of 100\n",
      "EarlyStopping counter: 12 out of 100\n",
      "EarlyStopping counter: 13 out of 100\n",
      "EarlyStopping counter: 14 out of 100\n",
      "EarlyStopping counter: 15 out of 100\n",
      "EarlyStopping counter: 16 out of 100\n",
      "EarlyStopping counter: 17 out of 100\n",
      "EarlyStopping counter: 18 out of 100\n",
      "EarlyStopping counter: 19 out of 100\n",
      "EarlyStopping counter: 20 out of 100\n",
      "EarlyStopping counter: 21 out of 100\n",
      "EarlyStopping counter: 22 out of 100\n",
      "EarlyStopping counter: 23 out of 100\n"
     ]
    },
    {
     "name": "stderr",
     "output_type": "stream",
     "text": [
      "  2%|█▋                                                                           | 226/10000 [00:00<00:23, 422.82it/s]"
     ]
    },
    {
     "name": "stdout",
     "output_type": "stream",
     "text": [
      "EarlyStopping counter: 24 out of 100\n",
      "EarlyStopping counter: 25 out of 100\n",
      "EarlyStopping counter: 26 out of 100\n",
      "EarlyStopping counter: 27 out of 100\n",
      "EarlyStopping counter: 28 out of 100\n",
      "EarlyStopping counter: 29 out of 100\n",
      "EarlyStopping counter: 30 out of 100\n",
      "EarlyStopping counter: 31 out of 100\n",
      "EarlyStopping counter: 32 out of 100\n",
      "EarlyStopping counter: 33 out of 100\n",
      "EarlyStopping counter: 34 out of 100\n",
      "EarlyStopping counter: 35 out of 100\n",
      "EarlyStopping counter: 36 out of 100\n",
      "EarlyStopping counter: 37 out of 100\n",
      "Validation loss decreased (851.112000 --> 849.940552).  Saving model ...\n",
      "Validation loss decreased (849.940552 --> 845.633179).  Saving model ...\n",
      "Validation loss decreased (845.633179 --> 841.343750).  Saving model ...\n",
      "Validation loss decreased (841.343750 --> 839.691956).  Saving model ...\n"
     ]
    },
    {
     "name": "stderr",
     "output_type": "stream",
     "text": [
      "  3%|██▍                                                                          | 323/10000 [00:00<00:21, 453.35it/s]"
     ]
    },
    {
     "name": "stdout",
     "output_type": "stream",
     "text": [
      "Validation loss decreased (839.691956 --> 833.309143).  Saving model ...\n",
      "EarlyStopping counter: 1 out of 100\n",
      "Validation loss decreased (833.309143 --> 825.086914).  Saving model ...\n",
      "Validation loss decreased (825.086914 --> 810.824463).  Saving model ...\n",
      "EarlyStopping counter: 1 out of 100\n",
      "EarlyStopping counter: 2 out of 100\n",
      "Validation loss decreased (810.824463 --> 795.572266).  Saving model ...\n",
      "EarlyStopping counter: 1 out of 100\n",
      "Validation loss decreased (795.572266 --> 791.757019).  Saving model ...\n",
      "Validation loss decreased (791.757019 --> 785.501648).  Saving model ...\n",
      "Validation loss decreased (785.501648 --> 778.801636).  Saving model ...\n",
      "Validation loss decreased (778.801636 --> 769.819397).  Saving model ...\n",
      "Validation loss decreased (769.819397 --> 757.692261).  Saving model ...\n",
      "EarlyStopping counter: 1 out of 100\n",
      "EarlyStopping counter: 2 out of 100\n",
      "Validation loss decreased (757.692261 --> 751.750427).  Saving model ...\n",
      "Validation loss decreased (751.750427 --> 743.908691).  Saving model ...\n",
      "Validation loss decreased (743.908691 --> 735.134094).  Saving model ...\n",
      "Validation loss decreased (735.134094 --> 723.683960).  Saving model ...\n"
     ]
    },
    {
     "name": "stderr",
     "output_type": "stream",
     "text": [
      "  4%|███▏                                                                         | 414/10000 [00:00<00:22, 431.84it/s]"
     ]
    },
    {
     "name": "stdout",
     "output_type": "stream",
     "text": [
      "Validation loss decreased (723.683960 --> 715.259827).  Saving model ...\n",
      "EarlyStopping counter: 1 out of 100\n",
      "Validation loss decreased (715.259827 --> 704.557739).  Saving model ...\n",
      "EarlyStopping counter: 1 out of 100\n",
      "EarlyStopping counter: 2 out of 100\n",
      "Validation loss decreased (704.557739 --> 679.429688).  Saving model ...\n",
      "EarlyStopping counter: 1 out of 100\n",
      "EarlyStopping counter: 2 out of 100\n",
      "EarlyStopping counter: 3 out of 100\n",
      "EarlyStopping counter: 4 out of 100\n",
      "EarlyStopping counter: 5 out of 100\n",
      "EarlyStopping counter: 6 out of 100\n",
      "EarlyStopping counter: 7 out of 100\n",
      "EarlyStopping counter: 8 out of 100\n",
      "Validation loss decreased (679.429688 --> 667.925171).  Saving model ...\n"
     ]
    },
    {
     "name": "stderr",
     "output_type": "stream",
     "text": [
      "  5%|███▉                                                                         | 506/10000 [00:01<00:21, 441.46it/s]"
     ]
    },
    {
     "name": "stdout",
     "output_type": "stream",
     "text": [
      "EarlyStopping counter: 1 out of 100\n",
      "EarlyStopping counter: 2 out of 100\n",
      "EarlyStopping counter: 3 out of 100\n",
      "EarlyStopping counter: 4 out of 100\n",
      "EarlyStopping counter: 5 out of 100\n",
      "EarlyStopping counter: 6 out of 100\n",
      "EarlyStopping counter: 7 out of 100\n",
      "EarlyStopping counter: 8 out of 100\n",
      "EarlyStopping counter: 9 out of 100\n",
      "EarlyStopping counter: 10 out of 100\n",
      "EarlyStopping counter: 11 out of 100\n",
      "EarlyStopping counter: 12 out of 100\n",
      "EarlyStopping counter: 13 out of 100\n",
      "EarlyStopping counter: 14 out of 100\n",
      "EarlyStopping counter: 15 out of 100\n",
      "Validation loss decreased (667.925171 --> 663.440735).  Saving model ...\n",
      "EarlyStopping counter: 1 out of 100\n",
      "EarlyStopping counter: 2 out of 100\n",
      "EarlyStopping counter: 3 out of 100\n"
     ]
    },
    {
     "name": "stderr",
     "output_type": "stream",
     "text": [
      "  6%|████▋                                                                        | 609/10000 [00:01<00:20, 462.49it/s]"
     ]
    },
    {
     "name": "stdout",
     "output_type": "stream",
     "text": [
      "EarlyStopping counter: 4 out of 100\n",
      "EarlyStopping counter: 5 out of 100\n",
      "EarlyStopping counter: 6 out of 100\n",
      "EarlyStopping counter: 7 out of 100\n",
      "EarlyStopping counter: 8 out of 100\n",
      "Validation loss decreased (663.440735 --> 662.367065).  Saving model ...\n",
      "EarlyStopping counter: 1 out of 100\n",
      "Validation loss decreased (662.367065 --> 623.329956).  Saving model ...\n",
      "EarlyStopping counter: 1 out of 100\n",
      "EarlyStopping counter: 2 out of 100\n",
      "EarlyStopping counter: 3 out of 100\n",
      "EarlyStopping counter: 4 out of 100\n",
      "EarlyStopping counter: 5 out of 100\n",
      "EarlyStopping counter: 6 out of 100\n",
      "EarlyStopping counter: 7 out of 100\n",
      "EarlyStopping counter: 8 out of 100\n",
      "EarlyStopping counter: 9 out of 100\n",
      "EarlyStopping counter: 10 out of 100\n",
      "EarlyStopping counter: 11 out of 100\n"
     ]
    },
    {
     "name": "stderr",
     "output_type": "stream",
     "text": [
      "  7%|█████                                                                        | 656/10000 [00:01<00:21, 442.74it/s]"
     ]
    },
    {
     "name": "stdout",
     "output_type": "stream",
     "text": [
      "EarlyStopping counter: 12 out of 100\n",
      "EarlyStopping counter: 13 out of 100\n",
      "EarlyStopping counter: 14 out of 100\n",
      "EarlyStopping counter: 15 out of 100\n",
      "EarlyStopping counter: 16 out of 100\n",
      "EarlyStopping counter: 17 out of 100\n",
      "EarlyStopping counter: 18 out of 100\n",
      "EarlyStopping counter: 19 out of 100\n",
      "EarlyStopping counter: 20 out of 100\n",
      "EarlyStopping counter: 21 out of 100\n",
      "EarlyStopping counter: 22 out of 100\n",
      "EarlyStopping counter: 23 out of 100\n",
      "Validation loss decreased (623.329956 --> 616.678589).  Saving model ...\n",
      "EarlyStopping counter: 1 out of 100\n",
      "EarlyStopping counter: 2 out of 100\n",
      "EarlyStopping counter: 3 out of 100\n"
     ]
    },
    {
     "name": "stderr",
     "output_type": "stream",
     "text": [
      "  8%|█████▊                                                                       | 754/10000 [00:01<00:19, 467.29it/s]"
     ]
    },
    {
     "name": "stdout",
     "output_type": "stream",
     "text": [
      "EarlyStopping counter: 4 out of 100\n",
      "EarlyStopping counter: 5 out of 100\n",
      "EarlyStopping counter: 6 out of 100\n",
      "EarlyStopping counter: 7 out of 100\n",
      "EarlyStopping counter: 8 out of 100\n",
      "EarlyStopping counter: 9 out of 100\n",
      "EarlyStopping counter: 10 out of 100\n",
      "EarlyStopping counter: 11 out of 100\n",
      "Validation loss decreased (616.678589 --> 601.568604).  Saving model ...\n",
      "EarlyStopping counter: 1 out of 100\n",
      "EarlyStopping counter: 2 out of 100\n",
      "EarlyStopping counter: 3 out of 100\n",
      "EarlyStopping counter: 4 out of 100\n",
      "EarlyStopping counter: 5 out of 100\n",
      "EarlyStopping counter: 6 out of 100\n",
      "EarlyStopping counter: 7 out of 100\n",
      "EarlyStopping counter: 8 out of 100\n",
      "EarlyStopping counter: 9 out of 100\n",
      "EarlyStopping counter: 10 out of 100\n"
     ]
    },
    {
     "name": "stderr",
     "output_type": "stream",
     "text": [
      "  9%|██████▌                                                                      | 854/10000 [00:01<00:18, 482.96it/s]"
     ]
    },
    {
     "name": "stdout",
     "output_type": "stream",
     "text": [
      "EarlyStopping counter: 11 out of 100\n",
      "EarlyStopping counter: 12 out of 100\n",
      "EarlyStopping counter: 13 out of 100\n",
      "EarlyStopping counter: 14 out of 100\n",
      "EarlyStopping counter: 15 out of 100\n",
      "EarlyStopping counter: 16 out of 100\n",
      "EarlyStopping counter: 17 out of 100\n",
      "EarlyStopping counter: 18 out of 100\n",
      "EarlyStopping counter: 19 out of 100\n",
      "EarlyStopping counter: 20 out of 100\n",
      "EarlyStopping counter: 21 out of 100\n",
      "EarlyStopping counter: 22 out of 100\n",
      "EarlyStopping counter: 23 out of 100\n",
      "EarlyStopping counter: 24 out of 100\n",
      "EarlyStopping counter: 25 out of 100\n",
      "EarlyStopping counter: 26 out of 100\n",
      "EarlyStopping counter: 27 out of 100\n",
      "EarlyStopping counter: 28 out of 100\n",
      "EarlyStopping counter: 29 out of 100\n"
     ]
    },
    {
     "name": "stderr",
     "output_type": "stream",
     "text": [
      " 10%|███████▎                                                                     | 954/10000 [00:02<00:18, 484.96it/s]"
     ]
    },
    {
     "name": "stdout",
     "output_type": "stream",
     "text": [
      "EarlyStopping counter: 30 out of 100\n",
      "EarlyStopping counter: 31 out of 100\n",
      "EarlyStopping counter: 32 out of 100\n",
      "EarlyStopping counter: 33 out of 100\n",
      "EarlyStopping counter: 34 out of 100\n",
      "EarlyStopping counter: 35 out of 100\n",
      "EarlyStopping counter: 36 out of 100\n",
      "EarlyStopping counter: 37 out of 100\n",
      "EarlyStopping counter: 38 out of 100\n",
      "EarlyStopping counter: 39 out of 100\n",
      "EarlyStopping counter: 40 out of 100\n",
      "EarlyStopping counter: 41 out of 100\n",
      "EarlyStopping counter: 42 out of 100\n",
      "EarlyStopping counter: 43 out of 100\n",
      "EarlyStopping counter: 44 out of 100\n",
      "EarlyStopping counter: 45 out of 100\n",
      "EarlyStopping counter: 46 out of 100\n",
      "EarlyStopping counter: 47 out of 100\n",
      "EarlyStopping counter: 48 out of 100\n"
     ]
    },
    {
     "name": "stderr",
     "output_type": "stream",
     "text": [
      " 11%|████████                                                                    | 1054/10000 [00:02<00:18, 486.16it/s]"
     ]
    },
    {
     "name": "stdout",
     "output_type": "stream",
     "text": [
      "EarlyStopping counter: 49 out of 100\n",
      "EarlyStopping counter: 50 out of 100\n",
      "EarlyStopping counter: 51 out of 100\n",
      "EarlyStopping counter: 52 out of 100\n",
      "EarlyStopping counter: 53 out of 100\n",
      "EarlyStopping counter: 54 out of 100\n",
      "EarlyStopping counter: 55 out of 100\n",
      "EarlyStopping counter: 56 out of 100\n",
      "EarlyStopping counter: 57 out of 100\n",
      "EarlyStopping counter: 58 out of 100\n",
      "EarlyStopping counter: 59 out of 100\n",
      "EarlyStopping counter: 60 out of 100\n",
      "EarlyStopping counter: 61 out of 100\n",
      "EarlyStopping counter: 62 out of 100\n",
      "EarlyStopping counter: 63 out of 100\n",
      "EarlyStopping counter: 64 out of 100\n",
      "EarlyStopping counter: 65 out of 100\n",
      "EarlyStopping counter: 66 out of 100\n",
      "EarlyStopping counter: 67 out of 100\n",
      "EarlyStopping counter: 68 out of 100\n"
     ]
    },
    {
     "name": "stderr",
     "output_type": "stream",
     "text": [
      " 12%|████████▊                                                                   | 1152/10000 [00:02<00:18, 468.48it/s]"
     ]
    },
    {
     "name": "stdout",
     "output_type": "stream",
     "text": [
      "EarlyStopping counter: 69 out of 100\n",
      "EarlyStopping counter: 70 out of 100\n",
      "EarlyStopping counter: 71 out of 100\n",
      "EarlyStopping counter: 72 out of 100\n",
      "EarlyStopping counter: 73 out of 100\n",
      "EarlyStopping counter: 74 out of 100\n",
      "EarlyStopping counter: 75 out of 100\n",
      "EarlyStopping counter: 76 out of 100\n",
      "EarlyStopping counter: 77 out of 100\n",
      "EarlyStopping counter: 78 out of 100\n",
      "EarlyStopping counter: 79 out of 100\n",
      "EarlyStopping counter: 80 out of 100\n",
      "EarlyStopping counter: 81 out of 100\n",
      "EarlyStopping counter: 82 out of 100\n",
      "EarlyStopping counter: 83 out of 100\n",
      "EarlyStopping counter: 84 out of 100\n",
      "EarlyStopping counter: 85 out of 100\n",
      "EarlyStopping counter: 86 out of 100\n"
     ]
    },
    {
     "name": "stderr",
     "output_type": "stream",
     "text": [
      " 12%|█████████▎                                                                  | 1230/10000 [00:02<00:19, 454.85it/s]"
     ]
    },
    {
     "name": "stdout",
     "output_type": "stream",
     "text": [
      "EarlyStopping counter: 87 out of 100\n",
      "EarlyStopping counter: 88 out of 100\n",
      "EarlyStopping counter: 89 out of 100\n",
      "EarlyStopping counter: 90 out of 100\n",
      "EarlyStopping counter: 91 out of 100\n",
      "EarlyStopping counter: 92 out of 100\n",
      "EarlyStopping counter: 93 out of 100\n",
      "EarlyStopping counter: 94 out of 100\n",
      "EarlyStopping counter: 95 out of 100\n",
      "EarlyStopping counter: 96 out of 100\n",
      "EarlyStopping counter: 97 out of 100\n",
      "EarlyStopping counter: 98 out of 100\n",
      "EarlyStopping counter: 99 out of 100\n",
      "EarlyStopping counter: 100 out of 100\n",
      "Early stopping\n"
     ]
    },
    {
     "name": "stderr",
     "output_type": "stream",
     "text": [
      "\n"
     ]
    }
   ],
   "source": [
    "from tqdm import tqdm\n",
    "\n",
    "net = nncnn()\n",
    "\n",
    "loss_function = nn.MSELoss()\n",
    "optimizer = optim.Adam(net.parameters(), lr=0.02)\n",
    "\n",
    "# to track the training loss as the model trains\n",
    "t_l = []\n",
    "# to track the validation loss as the model trains\n",
    "d_l = []\n",
    "\n",
    "#initialize the early_stopping object\n",
    "early_stopping = EarlyStopping(patience=100, verbose=True)\n",
    "\n",
    "for epoch in tqdm(range(10000)):# 10000 full passes over the data        \n",
    "    net.zero_grad() # sets gradients to 0 before loss calc. You will do this likely every step.\n",
    "    output = net(X1_train_1.float(), X2_train_1.float()) # pass in the training batch \n",
    "    loss = loss_function(output, y_train_1.float()) # calc and grab the loss value\n",
    "    loss.backward() # apply this loss backwards thru the network's parameters\n",
    "    optimizer.step() # attempt to optimize weights to account for loss/gradients\n",
    "    if epoch%5 == 0: \n",
    "        with torch.no_grad():\n",
    "            y_predict = net(X1_dev.float(), X2_dev.float())\n",
    "            dev_error = loss_function(y_predict, y_dev.float())\n",
    "            #print(f'train_loss..:{loss.item()} dev_loss..:{dev_error.item()} ')\n",
    "            t_l.append(loss.item())\n",
    "            d_l.append(dev_error.item())\n",
    "            # early_stopping needs the validation loss to check if it has decresed, \n",
    "            # and if it has, it will make a checkpoint of the current model\n",
    "            early_stopping(dev_error, net)\n",
    "            if early_stopping.early_stop:\n",
    "                print(\"Early stopping\")\n",
    "                break  \n",
    "            #print(loss) # print loss. We hope loss (train_loss..:{loss.item()} a measure of wrong-ness) declines!\n"
   ]
  },
  {
   "cell_type": "code",
   "execution_count": 98,
   "id": "9e0ced31-8c9d-4918-8a41-e1a2edde8071",
   "metadata": {},
   "outputs": [
    {
     "data": {
      "image/png": "[encoded data removed]",
      "text/plain": [
       "<Figure size 432x288 with 1 Axes>"
      ]
     },
     "metadata": {
      "needs_background": "light"
     },
     "output_type": "display_data"
    }
   ],
   "source": [
    "import matplotlib.pyplot as plt\n",
    "\n",
    "# evenly sampled time at 200ms intervals\n",
    "#t = np.arange(0., 5., 0.2)\n",
    "\n",
    "# red dashes, blue squares and green triangles\n",
    "plt.plot(t_l,'r--', d_l,'b--')\n",
    "plt.show()"
   ]
  },
  {
   "cell_type": "code",
   "execution_count": 99,
   "id": "f0de484a-ac85-469d-9cf5-7c844ad4f1c4",
   "metadata": {},
   "outputs": [
    {
     "name": "stdout",
     "output_type": "stream",
     "text": [
      "457.97723388671875\n",
      "(tensor([97.6000], dtype=torch.float64), tensor([65.0913], grad_fn=<UnbindBackward0>))\n",
      "(tensor([108.], dtype=torch.float64), tensor([76.6278], grad_fn=<UnbindBackward0>))\n",
      "(tensor([79.7000], dtype=torch.float64), tensor([93.4035], grad_fn=<UnbindBackward0>))\n",
      "(tensor([66.2000], dtype=torch.float64), tensor([67.3714], grad_fn=<UnbindBackward0>))\n",
      "(tensor([78.4000], dtype=torch.float64), tensor([95.9701], grad_fn=<UnbindBackward0>))\n",
      "(tensor([107.5000], dtype=torch.float64), tensor([110.6779], grad_fn=<UnbindBackward0>))\n",
      "(tensor([39.7200], dtype=torch.float64), tensor([58.7349], grad_fn=<UnbindBackward0>))\n",
      "(tensor([80.3000], dtype=torch.float64), tensor([100.4822], grad_fn=<UnbindBackward0>))\n",
      "(tensor([138.], dtype=torch.float64), tensor([91.7367], grad_fn=<UnbindBackward0>))\n",
      "(tensor([112.1000], dtype=torch.float64), tensor([86.0737], grad_fn=<UnbindBackward0>))\n",
      "(tensor([103.3000], dtype=torch.float64), tensor([108.2109], grad_fn=<UnbindBackward0>))\n",
      "(tensor([96.2000], dtype=torch.float64), tensor([88.8501], grad_fn=<UnbindBackward0>))\n",
      "(tensor([82.9000], dtype=torch.float64), tensor([122.9619], grad_fn=<UnbindBackward0>))\n",
      "(tensor([89.1000], dtype=torch.float64), tensor([62.2918], grad_fn=<UnbindBackward0>))\n",
      "(tensor([82.], dtype=torch.float64), tensor([96.3253], grad_fn=<UnbindBackward0>))\n",
      "(tensor([110.8000], dtype=torch.float64), tensor([117.9761], grad_fn=<UnbindBackward0>))\n",
      "(tensor([89.9000], dtype=torch.float64), tensor([92.0273], grad_fn=<UnbindBackward0>))\n",
      "(tensor([87.9000], dtype=torch.float64), tensor([70.0535], grad_fn=<UnbindBackward0>))\n",
      "(tensor([58.5000], dtype=torch.float64), tensor([60.1147], grad_fn=<UnbindBackward0>))\n",
      "(tensor([106.5000], dtype=torch.float64), tensor([100.1841], grad_fn=<UnbindBackward0>))\n",
      "-0.025578515568756677\n",
      "MAPE for depth:  0.1912739936186873\n",
      "MSE for depth:  457.9772745289385\n"
     ]
    }
   ],
   "source": [
    "from sklearn.metrics import r2_score\n",
    "from sklearn.metrics import mean_absolute_percentage_error, mean_squared_error\n",
    "\n",
    "X1_test = torch.tensor(X1_test)\n",
    "X2_test = torch.tensor(X2_test)\n",
    "y_test = torch.tensor(y_test)\n",
    "\n",
    "y_predict_1 = net(X1_test.float(), X2_test.float())\n",
    "error = loss_function(y_predict_1, y_test.float())\n",
    "\n",
    "print(error.item())\n",
    "for a in (list(zip(y_test,y_predict_1))):\n",
    "    print(a)\n",
    "    \n",
    "print(r2_score(y_test.detach().numpy()[:,0], y_predict_1.detach().numpy()[:,0]))\n",
    "\n",
    "print('MAPE for depth: ', mean_absolute_percentage_error(y_test.detach().numpy()[:,0], y_predict_1.detach().numpy()[:,0]))\n",
    "\n",
    "print('MSE for depth: ', mean_squared_error(y_test.detach().numpy()[:,0], y_predict_1.detach().numpy()[:,0]))"
   ]
  },
  {
   "cell_type": "code",
   "execution_count": 9,
   "id": "e98a3a8c-a056-483f-9bb9-0e45258e5917",
   "metadata": {},
   "outputs": [],
   "source": [
    "import os, pathlib, random\n",
    "\n",
    "import torch\n",
    "import torch.nn.functional as F\n",
    "from torch.utils.data import DataLoader\n",
    "\n",
    "\n",
    "\n",
    "class EarlyStopping:\n",
    "\t\"\"\"Early stops the training if validation loss doesn't improve after a given patience.\"\"\"\n",
    "\tdef __init__(self, patience, verbose=False, delta=0, save_path='checkpoint.pt'):\n",
    "\t\t\"\"\"\n",
    "\t\tArgs:\n",
    "\t\t\tpatience (int): How long to wait after last time validation loss improved.\n",
    "\t\t\t\t\t\t\tDefault: 7\n",
    "\t\t\tverbose (bool): If True, prints a message for each validation loss improvement.\n",
    "\t\t\t\t\t\t\tDefault: False\n",
    "\t\t\tdelta (float): Minimum change in the monitored quantity to qualify as an improvement.\n",
    "\t\t\t\t\t\t\tDefault: 0\n",
    "\t\t\"\"\"\n",
    "\t\tself.patience = patience\n",
    "\t\tself.verbose = verbose\n",
    "\t\tself.counter = 0\n",
    "\t\tself.best_score = None\n",
    "\t\tself.early_stop = False\n",
    "\t\tself.val_loss_min = np.inf\n",
    "\t\tself.delta = delta\n",
    "\t\tself.save_path = save_path\n",
    "\t\tos.makedirs(pathlib.Path(self.save_path).parent, exist_ok=True)\n",
    "\n",
    "\tdef __call__(self, val_loss, model):\n",
    "\n",
    "\t\tscore = -val_loss\n",
    "\n",
    "\t\tif self.best_score is None:\n",
    "\t\t\tself.best_score = score\n",
    "\t\t\tself.save_checkpoint(val_loss, model)\n",
    "\t\telif score < self.best_score - self.delta:\n",
    "\t\t\tself.counter += 1\n",
    "\t\t\tprint(f'EarlyStopping counter: {self.counter} out of {self.patience}')\n",
    "\t\t\tif self.counter >= self.patience:\n",
    "\t\t\t\tself.early_stop = True\n",
    "\t\telse:\n",
    "\t\t\tself.best_score = score\n",
    "\t\t\tself.save_checkpoint(val_loss, model)\n",
    "\t\t\tself.counter = 0\n",
    "\n",
    "\tdef save_checkpoint(self, val_loss, model):\n",
    "\t\t\"\"\"Saves model when validation loss decrease.\"\"\"\n",
    "\t\tif self.verbose:\n",
    "\t\t\tprint(f'Validation loss decreased ({self.val_loss_min:.6f} --> {val_loss:.6f}).  Saving model ...')\n",
    "\t\ttorch.save(model.state_dict(), self.save_path)\n",
    "\t\tself.val_loss_min = val_loss"
   ]
  },
  {
   "cell_type": "code",
   "execution_count": null,
   "id": "953f6e17-ebab-4f98-b93d-f99d91ac74cb",
   "metadata": {},
   "outputs": [],
   "source": []
  }
 ],
 "metadata": {
  "kernelspec": {
   "display_name": "Python 3 (ipykernel)",
   "language": "python",
   "name": "python3"
  },
  "language_info": {
   "codemirror_mode": {
    "name": "ipython",
    "version": 3
   },
   "file_extension": ".py",
   "mimetype": "text/x-python",
   "name": "python",
   "nbconvert_exporter": "python",
   "pygments_lexer": "ipython3",
   "version": "3.7.1"
  }
 },
 "nbformat": 4,
 "nbformat_minor": 5
}
