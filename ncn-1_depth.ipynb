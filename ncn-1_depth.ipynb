{
 "cells": [
  {
   "cell_type": "code",
   "execution_count": 1,
   "id": "7df860aa-9920-499e-ae0d-dd028e856c01",
   "metadata": {},
   "outputs": [],
   "source": [
    "import pandas as pd\n",
    "import numpy as np\n",
    "import sklearn\n",
    "from sklearn import preprocessing\n",
    "import torch\n",
    "import torchvision\n",
    "import torch.nn as nn\n",
    "import torch.nn.functional as F\n",
    "import torch.optim as optim\n",
    "\n",
    "import os"
   ]
  },
  {
   "cell_type": "code",
   "execution_count": 39,
   "id": "52e13e75-6ad5-4a14-a67b-1e9a8e6e55f3",
   "metadata": {},
   "outputs": [
    {
     "data": {
      "text/html": [
       "<div>\n",
       "<style scoped>\n",
       "    .dataframe tbody tr th:only-of-type {\n",
       "        vertical-align: middle;\n",
       "    }\n",
       "\n",
       "    .dataframe tbody tr th {\n",
       "        vertical-align: top;\n",
       "    }\n",
       "\n",
       "    .dataframe thead th {\n",
       "        text-align: right;\n",
       "    }\n",
       "</style>\n",
       "<table border=\"1\" class=\"dataframe\">\n",
       "  <thead>\n",
       "    <tr style=\"text-align: right;\">\n",
       "      <th></th>\n",
       "      <th>Voltage</th>\n",
       "      <th>Flow rate</th>\n",
       "      <th>Duty cycle</th>\n",
       "      <th>Pulse period</th>\n",
       "      <th>Laser energy</th>\n",
       "      <th>cavity width(mm)</th>\n",
       "      <th>cavity depth(µm)</th>\n",
       "    </tr>\n",
       "  </thead>\n",
       "  <tbody>\n",
       "    <tr>\n",
       "      <th>0</th>\n",
       "      <td>25</td>\n",
       "      <td>0.47</td>\n",
       "      <td>20</td>\n",
       "      <td>20</td>\n",
       "      <td>0</td>\n",
       "      <td>2285.0</td>\n",
       "      <td>72.1</td>\n",
       "    </tr>\n",
       "    <tr>\n",
       "      <th>1</th>\n",
       "      <td>25</td>\n",
       "      <td>0.47</td>\n",
       "      <td>20</td>\n",
       "      <td>20</td>\n",
       "      <td>0</td>\n",
       "      <td>2199.0</td>\n",
       "      <td>68.2</td>\n",
       "    </tr>\n",
       "    <tr>\n",
       "      <th>2</th>\n",
       "      <td>25</td>\n",
       "      <td>0.47</td>\n",
       "      <td>20</td>\n",
       "      <td>20</td>\n",
       "      <td>0</td>\n",
       "      <td>2108.0</td>\n",
       "      <td>67.2</td>\n",
       "    </tr>\n",
       "    <tr>\n",
       "      <th>3</th>\n",
       "      <td>25</td>\n",
       "      <td>0.47</td>\n",
       "      <td>20</td>\n",
       "      <td>20</td>\n",
       "      <td>0</td>\n",
       "      <td>2233.0</td>\n",
       "      <td>61.2</td>\n",
       "    </tr>\n",
       "    <tr>\n",
       "      <th>4</th>\n",
       "      <td>25</td>\n",
       "      <td>0.47</td>\n",
       "      <td>20</td>\n",
       "      <td>20</td>\n",
       "      <td>0</td>\n",
       "      <td>2046.0</td>\n",
       "      <td>52.2</td>\n",
       "    </tr>\n",
       "  </tbody>\n",
       "</table>\n",
       "</div>"
      ],
      "text/plain": [
       "   Voltage  Flow rate  Duty cycle  Pulse period  Laser energy  \\\n",
       "0       25       0.47          20            20             0   \n",
       "1       25       0.47          20            20             0   \n",
       "2       25       0.47          20            20             0   \n",
       "3       25       0.47          20            20             0   \n",
       "4       25       0.47          20            20             0   \n",
       "\n",
       "   cavity width(mm)  cavity depth(µm)  \n",
       "0            2285.0              72.1  \n",
       "1            2199.0              68.2  \n",
       "2            2108.0              67.2  \n",
       "3            2233.0              61.2  \n",
       "4            2046.0              52.2  "
      ]
     },
     "execution_count": 39,
     "metadata": {},
     "output_type": "execute_result"
    }
   ],
   "source": [
    "# x1 input\n",
    "\n",
    "df = pd.read_csv('datasets/CNN_parameter_dataset.csv', encoding='utf-8')\n",
    "int_flow = df.copy()\n",
    "\n",
    "#preparing the dataset for spliting into features and labels \n",
    "int_flow.columns = [col.strip() for col in df.columns]\n",
    "int_flow.drop(['Sample','Cavity','Pulse width'], axis=1, inplace=True)\n",
    "int_flow.drop(['Pulse rms','Pulse pkpk'], axis=1, inplace=True)\n",
    "int_flow['cavity width(mm)'] = int_flow['cavity width(mm)']*1000\n",
    "#int_flow = sklearn.utils.shuffle(int_flow)\n",
    "int_flow.head()"
   ]
  },
  {
   "cell_type": "code",
   "execution_count": 40,
   "id": "2990333a-6811-4eab-800c-d2466300ef12",
   "metadata": {},
   "outputs": [],
   "source": [
    "# x2 input\n",
    "\n",
    "X2= []\n",
    "path = r'C:\\Users\\nikam\\Desktop\\Academics\\Thesis\\Internal_flow_experiments\\Internal_flow_current_data'   \n",
    "for folder in (os.listdir(path)):\n",
    "    dfs = []\n",
    "    \n",
    "    for file in (os.listdir(path + '\\\\'+folder)):\n",
    "        df = pd.read_csv(path + '\\\\'+folder + '\\\\'+file, encoding='unicode_escape', sep='\\t' )\n",
    "        dfs.append(df)\n",
    "    new_df = pd.concat(dfs)\n",
    "    for i in range(0,len(new_df),15):\n",
    "        _df = new_df[i:i+15].copy()\n",
    "        _df = _df.reset_index(drop=True)\n",
    "        idx = _df['Pulse rms [A]'].index[_df['Pulse rms [A]'].apply(np.isnan)]\n",
    "        \n",
    "        if len(idx)>0: \n",
    "            for ii in idx:\n",
    "                if ii == 0: \n",
    "                    replacing_val = _df['Pulse rms [A]'][ii+1]\n",
    "                elif ii == 14:\n",
    "                     replacing_val = _df['Pulse rms [A]'][ii-1]   \n",
    "                else:\n",
    "                    replacing_val = (_df['Pulse rms [A]'][ii-1]+_df['Pulse rms [A]'][ii+1])/2\n",
    "                _df.loc[ii,'Pulse rms [A]'] = replacing_val\n",
    "        X2.append(_df.iloc[:,-2:].to_numpy())        \n",
    "        \n",
    "X2 = np.asarray(X2, dtype=np.float16)\n",
    "X2 =np.expand_dims(X2,axis=1)"
   ]
  },
  {
   "cell_type": "code",
   "execution_count": 41,
   "id": "1cb7fe8c-e068-47be-ab0a-37f8af6177c9",
   "metadata": {},
   "outputs": [],
   "source": [
    "#initializing X(features) and y(labels)\n",
    "X1 = int_flow.drop(['cavity width(mm)','cavity depth(µm)'], axis=1).to_numpy()\n",
    "#X1 =np.expand_dims(X1,axis=1)\n",
    "y = int_flow[['cavity depth(µm)']].values"
   ]
  },
  {
   "cell_type": "code",
   "execution_count": 42,
   "id": "f2b71631-f568-4ff2-a694-fc892f76959d",
   "metadata": {},
   "outputs": [],
   "source": [
    "from sklearn import model_selection\n",
    "X1_train, X1_test,X2_train, X2_test, y_train, y_test = model_selection.train_test_split(X1, X2, y, test_size=0.2, random_state=1)\n",
    "X1_train_1, X1_dev, X2_train_1, X2_dev, y_train_1, y_dev = model_selection.train_test_split(X1_train, X2_train, y_train, test_size=0.2, random_state=1)"
   ]
  },
  {
   "cell_type": "code",
   "execution_count": 17,
   "id": "e07a6c67-8df0-4a32-af9d-827c0b360716",
   "metadata": {},
   "outputs": [],
   "source": [
    "class nncnn(nn.Module):\n",
    "    \n",
    "    def __init__(self):\n",
    "        super().__init__()\n",
    "        self.fc1 = nn.Linear(5, 10)        \n",
    "        self.cnn1 = nn.Conv2d(1, 5, (2,2))\n",
    "        \n",
    "        self.fc2 = nn.Linear(80, 50)\n",
    "        self.fc3 = nn.Linear(50, 10)\n",
    "        self.fc4 = nn.Linear(10, 1)\n",
    "        \n",
    "    def forward(self, x1,x2):\n",
    "        x1 = F.relu(self.fc1(x1))\n",
    "        \n",
    "        x2 = self.cnn1(x2).view(x1.size(0),-1)\n",
    "        #print(x1.shape, x2.shape)\n",
    "        x_joined = torch.cat([x1,x2], dim=1)\n",
    "        #print(x1.shape, x2.shape, x_joined.shape)\n",
    "        x_joined = F.relu(self.fc2(x_joined))\n",
    "        x_joined = F.relu(self.fc3(x_joined))\n",
    "        x_joined = self.fc4(x_joined)\n",
    "\n",
    "        return x_joined"
   ]
  },
  {
   "cell_type": "code",
   "execution_count": 26,
   "id": "ab58e148-ed7c-4e21-8430-75e93fd9f86d",
   "metadata": {},
   "outputs": [
    {
     "data": {
      "text/plain": [
       "nncnn(\n",
       "  (fc1): Linear(in_features=5, out_features=10, bias=True)\n",
       "  (cnn1): Conv2d(1, 5, kernel_size=(2, 2), stride=(1, 1))\n",
       "  (fc2): Linear(in_features=80, out_features=50, bias=True)\n",
       "  (fc3): Linear(in_features=50, out_features=10, bias=True)\n",
       "  (fc4): Linear(in_features=10, out_features=1, bias=True)\n",
       ")"
      ]
     },
     "execution_count": 26,
     "metadata": {},
     "output_type": "execute_result"
    }
   ],
   "source": [
    "m = nncnn()\n",
    "m"
   ]
  },
  {
   "cell_type": "code",
   "execution_count": 43,
   "id": "303677b9-1f2f-4a40-bf95-9ae2d06690ce",
   "metadata": {},
   "outputs": [],
   "source": [
    "#training the neuralnetwork model\n",
    "\n",
    "X1_train_1 = torch.tensor(X1_train_1, dtype=torch.float64)\n",
    "X2_train_1 = torch.tensor(X2_train_1, dtype=torch.float64)\n",
    "y_train_1 = torch.tensor(y_train_1)\n",
    "\n",
    "X1_dev = torch.tensor(X1_dev, dtype=torch.float64)\n",
    "X2_dev = torch.tensor(X2_dev, dtype=torch.float64)\n",
    "y_dev = torch.tensor(y_dev)"
   ]
  },
  {
   "cell_type": "code",
   "execution_count": 44,
   "id": "d3b1a290-0086-45fd-984f-1fd98851e83d",
   "metadata": {
    "tags": []
   },
   "outputs": [
    {
     "name": "stderr",
     "output_type": "stream",
     "text": [
      "  0%|▎                                                                             | 44/10000 [00:00<00:22, 439.62it/s]"
     ]
    },
    {
     "name": "stdout",
     "output_type": "stream",
     "text": [
      "Validation loss decreased (inf --> 7759.008301).  Saving model ...\n",
      "Validation loss decreased (7759.008301 --> 6441.812500).  Saving model ...\n",
      "Validation loss decreased (6441.812500 --> 1018.658936).  Saving model ...\n",
      "EarlyStopping counter: 1 out of 50\n",
      "Validation loss decreased (1018.658936 --> 967.671326).  Saving model ...\n",
      "Validation loss decreased (967.671326 --> 630.714966).  Saving model ...\n",
      "EarlyStopping counter: 1 out of 50\n",
      "Validation loss decreased (630.714966 --> 548.494629).  Saving model ...\n",
      "Validation loss decreased (548.494629 --> 502.450134).  Saving model ...\n",
      "EarlyStopping counter: 1 out of 50\n",
      "Validation loss decreased (502.450134 --> 489.756744).  Saving model ...\n",
      "Validation loss decreased (489.756744 --> 430.437653).  Saving model ...\n",
      "EarlyStopping counter: 1 out of 50\n",
      "Validation loss decreased (430.437653 --> 429.332245).  Saving model ...\n",
      "Validation loss decreased (429.332245 --> 414.114746).  Saving model ...\n",
      "EarlyStopping counter: 1 out of 50\n",
      "Validation loss decreased (414.114746 --> 402.164673).  Saving model ...\n",
      "EarlyStopping counter: 1 out of 50\n",
      "EarlyStopping counter: 2 out of 50\n",
      "Validation loss decreased (402.164673 --> 391.467438).  Saving model ...\n",
      "EarlyStopping counter: 1 out of 50\n"
     ]
    },
    {
     "name": "stderr",
     "output_type": "stream",
     "text": [
      "  2%|█▏                                                                           | 156/10000 [00:00<00:18, 520.15it/s]"
     ]
    },
    {
     "name": "stdout",
     "output_type": "stream",
     "text": [
      "Validation loss decreased (391.467438 --> 387.349121).  Saving model ...\n",
      "EarlyStopping counter: 1 out of 50\n",
      "Validation loss decreased (387.349121 --> 383.701965).  Saving model ...\n",
      "Validation loss decreased (383.701965 --> 376.861176).  Saving model ...\n",
      "Validation loss decreased (376.861176 --> 375.808990).  Saving model ...\n",
      "Validation loss decreased (375.808990 --> 368.416931).  Saving model ...\n",
      "Validation loss decreased (368.416931 --> 366.344666).  Saving model ...\n",
      "Validation loss decreased (366.344666 --> 360.467773).  Saving model ...\n",
      "Validation loss decreased (360.467773 --> 356.974640).  Saving model ...\n",
      "Validation loss decreased (356.974640 --> 352.211639).  Saving model ...\n",
      "Validation loss decreased (352.211639 --> 348.126923).  Saving model ...\n",
      "Validation loss decreased (348.126923 --> 344.052917).  Saving model ...\n",
      "Validation loss decreased (344.052917 --> 339.952148).  Saving model ...\n",
      "Validation loss decreased (339.952148 --> 336.169006).  Saving model ...\n",
      "Validation loss decreased (336.169006 --> 332.211884).  Saving model ...\n",
      "Validation loss decreased (332.211884 --> 328.509430).  Saving model ...\n",
      "Validation loss decreased (328.509430 --> 324.615479).  Saving model ...\n",
      "Validation loss decreased (324.615479 --> 320.986084).  Saving model ...\n",
      "Validation loss decreased (320.986084 --> 317.599243).  Saving model ...\n",
      "Validation loss decreased (317.599243 --> 314.131104).  Saving model ...\n"
     ]
    },
    {
     "name": "stderr",
     "output_type": "stream",
     "text": [
      "  3%|██                                                                           | 265/10000 [00:00<00:18, 530.69it/s]"
     ]
    },
    {
     "name": "stdout",
     "output_type": "stream",
     "text": [
      "Validation loss decreased (314.131104 --> 310.981934).  Saving model ...\n",
      "Validation loss decreased (310.981934 --> 307.937225).  Saving model ...\n",
      "Validation loss decreased (307.937225 --> 305.135498).  Saving model ...\n",
      "Validation loss decreased (305.135498 --> 302.407532).  Saving model ...\n",
      "Validation loss decreased (302.407532 --> 299.255249).  Saving model ...\n",
      "Validation loss decreased (299.255249 --> 296.849518).  Saving model ...\n",
      "Validation loss decreased (296.849518 --> 293.460388).  Saving model ...\n",
      "Validation loss decreased (293.460388 --> 290.872559).  Saving model ...\n",
      "Validation loss decreased (290.872559 --> 288.260132).  Saving model ...\n",
      "Validation loss decreased (288.260132 --> 285.448883).  Saving model ...\n",
      "Validation loss decreased (285.448883 --> 283.147766).  Saving model ...\n",
      "Validation loss decreased (283.147766 --> 281.472260).  Saving model ...\n",
      "Validation loss decreased (281.472260 --> 279.846222).  Saving model ...\n",
      "Validation loss decreased (279.846222 --> 277.993866).  Saving model ...\n",
      "Validation loss decreased (277.993866 --> 276.903656).  Saving model ...\n",
      "Validation loss decreased (276.903656 --> 275.826843).  Saving model ...\n",
      "Validation loss decreased (275.826843 --> 275.167145).  Saving model ...\n",
      "Validation loss decreased (275.167145 --> 275.125305).  Saving model ...\n",
      "EarlyStopping counter: 1 out of 50\n",
      "EarlyStopping counter: 2 out of 50\n",
      "EarlyStopping counter: 3 out of 50\n"
     ]
    },
    {
     "name": "stderr",
     "output_type": "stream",
     "text": [
      "  4%|██▉                                                                          | 375/10000 [00:00<00:17, 535.71it/s]"
     ]
    },
    {
     "name": "stdout",
     "output_type": "stream",
     "text": [
      "EarlyStopping counter: 4 out of 50\n",
      "EarlyStopping counter: 5 out of 50\n",
      "EarlyStopping counter: 6 out of 50\n",
      "EarlyStopping counter: 7 out of 50\n",
      "EarlyStopping counter: 8 out of 50\n",
      "EarlyStopping counter: 9 out of 50\n",
      "EarlyStopping counter: 10 out of 50\n",
      "EarlyStopping counter: 11 out of 50\n",
      "EarlyStopping counter: 12 out of 50\n",
      "EarlyStopping counter: 13 out of 50\n",
      "EarlyStopping counter: 14 out of 50\n",
      "EarlyStopping counter: 15 out of 50\n",
      "EarlyStopping counter: 16 out of 50\n",
      "EarlyStopping counter: 17 out of 50\n",
      "EarlyStopping counter: 18 out of 50\n",
      "EarlyStopping counter: 19 out of 50\n",
      "EarlyStopping counter: 20 out of 50\n",
      "EarlyStopping counter: 21 out of 50\n",
      "EarlyStopping counter: 22 out of 50\n",
      "EarlyStopping counter: 23 out of 50\n",
      "EarlyStopping counter: 24 out of 50\n"
     ]
    },
    {
     "name": "stderr",
     "output_type": "stream",
     "text": [
      "  5%|███▋                                                                         | 486/10000 [00:00<00:17, 539.22it/s]"
     ]
    },
    {
     "name": "stdout",
     "output_type": "stream",
     "text": [
      "EarlyStopping counter: 25 out of 50\n",
      "EarlyStopping counter: 26 out of 50\n",
      "EarlyStopping counter: 27 out of 50\n",
      "EarlyStopping counter: 28 out of 50\n",
      "EarlyStopping counter: 29 out of 50\n",
      "EarlyStopping counter: 30 out of 50\n",
      "EarlyStopping counter: 31 out of 50\n",
      "EarlyStopping counter: 32 out of 50\n",
      "EarlyStopping counter: 33 out of 50\n",
      "EarlyStopping counter: 34 out of 50\n",
      "EarlyStopping counter: 35 out of 50\n",
      "EarlyStopping counter: 36 out of 50\n",
      "EarlyStopping counter: 37 out of 50\n",
      "EarlyStopping counter: 38 out of 50\n",
      "EarlyStopping counter: 39 out of 50\n",
      "EarlyStopping counter: 40 out of 50\n",
      "EarlyStopping counter: 41 out of 50\n",
      "EarlyStopping counter: 42 out of 50\n",
      "EarlyStopping counter: 43 out of 50\n",
      "EarlyStopping counter: 44 out of 50\n",
      "EarlyStopping counter: 45 out of 50\n"
     ]
    },
    {
     "name": "stderr",
     "output_type": "stream",
     "text": [
      "  5%|████▏                                                                        | 540/10000 [00:01<00:17, 528.82it/s]"
     ]
    },
    {
     "name": "stdout",
     "output_type": "stream",
     "text": [
      "EarlyStopping counter: 46 out of 50\n",
      "EarlyStopping counter: 47 out of 50\n",
      "EarlyStopping counter: 48 out of 50\n",
      "EarlyStopping counter: 49 out of 50\n",
      "EarlyStopping counter: 50 out of 50\n",
      "Early stopping\n"
     ]
    },
    {
     "name": "stderr",
     "output_type": "stream",
     "text": [
      "\n"
     ]
    }
   ],
   "source": [
    "from tqdm import tqdm\n",
    "\n",
    "net = nncnn()\n",
    "\n",
    "loss_function = nn.MSELoss()\n",
    "optimizer = optim.Adam(net.parameters(), lr=0.02)\n",
    "\n",
    "# to track the training loss as the model trains\n",
    "t_l = []\n",
    "# to track the validation loss as the model trains\n",
    "d_l = []\n",
    "\n",
    "#initialize the early_stopping object\n",
    "early_stopping = EarlyStopping(patience=50, verbose=True)\n",
    "\n",
    "for epoch in tqdm(range(10000)):# 10000 full passes over the data        \n",
    "    net.zero_grad() # sets gradients to 0 before loss calc. You will do this likely every step.\n",
    "    output = net(X1_train_1.float(), X2_train_1.float()) # pass in the training batch \n",
    "    loss = loss_function(output, y_train_1.float()) # calc and grab the loss value\n",
    "    loss.backward() # apply this loss backwards thru the network's parameters\n",
    "    optimizer.step() # attempt to optimize weights to account for loss/gradients\n",
    "    if epoch%5 == 0: \n",
    "        with torch.no_grad():\n",
    "            y_predict = net(X1_dev.float(), X2_dev.float())\n",
    "            dev_error = loss_function(y_predict, y_dev.float())\n",
    "            #print(f'train_loss..:{loss.item()} dev_loss..:{dev_error.item()} ')\n",
    "            t_l.append(loss.item())\n",
    "            d_l.append(dev_error.item())\n",
    "            # early_stopping needs the validation loss to check if it has decresed, \n",
    "            # and if it has, it will make a checkpoint of the current model\n",
    "            early_stopping(dev_error, net)\n",
    "            if early_stopping.early_stop:\n",
    "                print(\"Early stopping\")\n",
    "                break  \n",
    "            #print(loss) # print loss. We hope loss (train_loss..:{loss.item()} a measure of wrong-ness) declines!\n"
   ]
  },
  {
   "cell_type": "code",
   "execution_count": 45,
   "id": "b616141e-0643-41df-8df2-3f9d66a58553",
   "metadata": {},
   "outputs": [
    {
     "data": {
      "image/png": "[encoded data removed]",
      "text/plain": [
       "<Figure size 432x288 with 1 Axes>"
      ]
     },
     "metadata": {
      "needs_background": "light"
     },
     "output_type": "display_data"
    }
   ],
   "source": [
    "import matplotlib.pyplot as plt\n",
    "\n",
    "# evenly sampled time at 200ms intervals\n",
    "#t = np.arange(0., 5., 0.2)\n",
    "\n",
    "# red dashes, blue squares and green triangles\n",
    "plt.plot(t_l,'r--', d_l,'b--')\n",
    "plt.show()"
   ]
  },
  {
   "cell_type": "code",
   "execution_count": 46,
   "id": "e30ec875-bf0c-4af2-84a0-98becc5dadcf",
   "metadata": {},
   "outputs": [
    {
     "name": "stdout",
     "output_type": "stream",
     "text": [
      "523.2335205078125\n",
      "(tensor([85.2000], dtype=torch.float64), tensor([70.6991], grad_fn=<UnbindBackward0>))\n",
      "(tensor([67.4000], dtype=torch.float64), tensor([99.9016], grad_fn=<UnbindBackward0>))\n",
      "(tensor([76.], dtype=torch.float64), tensor([142.0432], grad_fn=<UnbindBackward0>))\n",
      "(tensor([103.5000], dtype=torch.float64), tensor([115.8007], grad_fn=<UnbindBackward0>))\n",
      "(tensor([77.5000], dtype=torch.float64), tensor([102.5497], grad_fn=<UnbindBackward0>))\n",
      "(tensor([138.], dtype=torch.float64), tensor([122.2040], grad_fn=<UnbindBackward0>))\n",
      "(tensor([65.], dtype=torch.float64), tensor([105.2962], grad_fn=<UnbindBackward0>))\n",
      "(tensor([81.1000], dtype=torch.float64), tensor([101.2183], grad_fn=<UnbindBackward0>))\n",
      "(tensor([77.3000], dtype=torch.float64), tensor([87.5282], grad_fn=<UnbindBackward0>))\n",
      "(tensor([72.9000], dtype=torch.float64), tensor([80.6645], grad_fn=<UnbindBackward0>))\n",
      "(tensor([96.5000], dtype=torch.float64), tensor([88.5833], grad_fn=<UnbindBackward0>))\n",
      "(tensor([89.9000], dtype=torch.float64), tensor([89.2600], grad_fn=<UnbindBackward0>))\n",
      "(tensor([96.2000], dtype=torch.float64), tensor([90.5454], grad_fn=<UnbindBackward0>))\n",
      "(tensor([109.8000], dtype=torch.float64), tensor([89.7907], grad_fn=<UnbindBackward0>))\n",
      "(tensor([68.7000], dtype=torch.float64), tensor([77.9615], grad_fn=<UnbindBackward0>))\n",
      "(tensor([87.9000], dtype=torch.float64), tensor([97.9876], grad_fn=<UnbindBackward0>))\n",
      "(tensor([100.8000], dtype=torch.float64), tensor([108.4339], grad_fn=<UnbindBackward0>))\n",
      "(tensor([66.2000], dtype=torch.float64), tensor([87.1863], grad_fn=<UnbindBackward0>))\n",
      "(tensor([93.7000], dtype=torch.float64), tensor([86.1421], grad_fn=<UnbindBackward0>))\n",
      "(tensor([39.7200], dtype=torch.float64), tensor([59.1056], grad_fn=<UnbindBackward0>))\n",
      "-0.28924975122974605\n",
      "MAPE for depth:  0.236299324110368\n",
      "MSE for depth:  523.2334560752431\n"
     ]
    }
   ],
   "source": [
    "from sklearn.metrics import r2_score\n",
    "from sklearn.metrics import mean_absolute_percentage_error, mean_squared_error\n",
    "\n",
    "X1_test = torch.tensor(X1_test)\n",
    "X2_test = torch.tensor(X2_test)\n",
    "y_test = torch.tensor(y_test)\n",
    "\n",
    "y_predict_1 = net(X1_test.float(), X2_test.float())\n",
    "error = loss_function(y_predict_1, y_test.float())\n",
    "\n",
    "print(error.item())\n",
    "for a in (list(zip(y_test,y_predict_1))):\n",
    "    print(a)\n",
    "    \n",
    "print(r2_score(y_test.detach().numpy()[:,0], y_predict_1.detach().numpy()[:,0]))\n",
    "\n",
    "print('MAPE for depth: ', mean_absolute_percentage_error(y_test.detach().numpy()[:,0], y_predict_1.detach().numpy()[:,0]))\n",
    "\n",
    "print('MSE for depth: ', mean_squared_error(y_test.detach().numpy()[:,0], y_predict_1.detach().numpy()[:,0]))"
   ]
  },
  {
   "cell_type": "code",
   "execution_count": 9,
   "id": "37273746-6495-4edb-ae9d-1d4d284b0c10",
   "metadata": {},
   "outputs": [],
   "source": [
    "import os, pathlib, random\n",
    "\n",
    "import torch\n",
    "import torch.nn.functional as F\n",
    "from torch.utils.data import DataLoader\n",
    "\n",
    "\n",
    "\n",
    "class EarlyStopping:\n",
    "\t\"\"\"Early stops the training if validation loss doesn't improve after a given patience.\"\"\"\n",
    "\tdef __init__(self, patience, verbose=False, delta=0, save_path='checkpoint.pt'):\n",
    "\t\t\"\"\"\n",
    "\t\tArgs:\n",
    "\t\t\tpatience (int): How long to wait after last time validation loss improved.\n",
    "\t\t\t\t\t\t\tDefault: 7\n",
    "\t\t\tverbose (bool): If True, prints a message for each validation loss improvement.\n",
    "\t\t\t\t\t\t\tDefault: False\n",
    "\t\t\tdelta (float): Minimum change in the monitored quantity to qualify as an improvement.\n",
    "\t\t\t\t\t\t\tDefault: 0\n",
    "\t\t\"\"\"\n",
    "\t\tself.patience = patience\n",
    "\t\tself.verbose = verbose\n",
    "\t\tself.counter = 0\n",
    "\t\tself.best_score = None\n",
    "\t\tself.early_stop = False\n",
    "\t\tself.val_loss_min = np.inf\n",
    "\t\tself.delta = delta\n",
    "\t\tself.save_path = save_path\n",
    "\t\tos.makedirs(pathlib.Path(self.save_path).parent, exist_ok=True)\n",
    "\n",
    "\tdef __call__(self, val_loss, model):\n",
    "\n",
    "\t\tscore = -val_loss\n",
    "\n",
    "\t\tif self.best_score is None:\n",
    "\t\t\tself.best_score = score\n",
    "\t\t\tself.save_checkpoint(val_loss, model)\n",
    "\t\telif score < self.best_score - self.delta:\n",
    "\t\t\tself.counter += 1\n",
    "\t\t\tprint(f'EarlyStopping counter: {self.counter} out of {self.patience}')\n",
    "\t\t\tif self.counter >= self.patience:\n",
    "\t\t\t\tself.early_stop = True\n",
    "\t\telse:\n",
    "\t\t\tself.best_score = score\n",
    "\t\t\tself.save_checkpoint(val_loss, model)\n",
    "\t\t\tself.counter = 0\n",
    "\n",
    "\tdef save_checkpoint(self, val_loss, model):\n",
    "\t\t\"\"\"Saves model when validation loss decrease.\"\"\"\n",
    "\t\tif self.verbose:\n",
    "\t\t\tprint(f'Validation loss decreased ({self.val_loss_min:.6f} --> {val_loss:.6f}).  Saving model ...')\n",
    "\t\ttorch.save(model.state_dict(), self.save_path)\n",
    "\t\tself.val_loss_min = val_loss"
   ]
  }
 ],
 "metadata": {
  "kernelspec": {
   "display_name": "Python 3 (ipykernel)",
   "language": "python",
   "name": "python3"
  },
  "language_info": {
   "codemirror_mode": {
    "name": "ipython",
    "version": 3
   },
   "file_extension": ".py",
   "mimetype": "text/x-python",
   "name": "python",
   "nbconvert_exporter": "python",
   "pygments_lexer": "ipython3",
   "version": "3.7.1"
  }
 },
 "nbformat": 4,
 "nbformat_minor": 5
}
